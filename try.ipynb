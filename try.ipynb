{
 "cells": [
  {
   "cell_type": "code",
   "execution_count": 4,
   "metadata": {},
   "outputs": [
    {
     "name": "stdout",
     "output_type": "stream",
     "text": [
      "OpenAI Python Version: 1.14.3\n"
     ]
    }
   ],
   "source": [
    "import openai\n",
    "\n",
    "print(f\"OpenAI Python Version: {openai.__version__}\")"
   ]
  },
  {
   "cell_type": "code",
   "execution_count": 8,
   "metadata": {},
   "outputs": [],
   "source": [
    "from dotenv import load_dotenv\n",
    "import os\n",
    "import backoff\n",
    "import csv\n",
    "\n",
    "load_dotenv()  # This loads the environment variables from the .env file\n",
    "\n",
    "# Now you can access the OPENAI_API_KEY like any other environment variable\n",
    "openai_api_key = os.getenv(\"OPENAI_API_KEY\")"
   ]
  },
  {
   "cell_type": "code",
   "execution_count": 6,
   "metadata": {},
   "outputs": [
    {
     "name": "stdout",
     "output_type": "stream",
     "text": [
      "ChatCompletionMessage(content='In the realm of code, there lies a tale,\\nOf a concept both mighty and frail.\\nRecursion, a method so grand and deep,\\nIn loops and functions, it finds its keep.\\n\\nA function that calls itself anew,\\nA mirror reflecting its own virtue.\\nLike a Russian doll, layers unfold,\\nRepeating patterns, stories untold.\\n\\nWith elegance and grace, it dances free,\\nSolving problems with divine decree.\\nDividing tasks into smaller parts,\\nIt conquers challenges with brave hearts.\\n\\nBut be wary, dear coder, of infinite loop,\\nA pitfall where recursion may swoop.\\nBase case must be clear and defined,\\nTo break the cycle and unwind.\\n\\nSo embrace recursion, let creativity bloom,\\nIn the symphony of code, let it resume.\\nA concept profound, a joy to behold,\\nIn the world of programming, a story told.', role='assistant', function_call=None, tool_calls=None)\n"
     ]
    }
   ],
   "source": [
    "from openai import OpenAI\n",
    "client = OpenAI()\n",
    "\n",
    "completion = client.chat.completions.create(\n",
    "  model=\"gpt-3.5-turbo\",\n",
    "  messages=[\n",
    "    {\"role\": \"system\", \"content\": \"You are a poetic assistant, skilled in explaining complex programming concepts with creative flair.\"},\n",
    "    {\"role\": \"user\", \"content\": \"Compose a poem that explains the concept of recursion in programming.\"}\n",
    "  ]\n",
    ")\n",
    "\n",
    "print(completion.choices[0].message)"
   ]
  },
  {
   "cell_type": "code",
   "execution_count": 9,
   "metadata": {},
   "outputs": [],
   "source": [
    "task_template = \"A: A profit of $50 with probability 90% and a profit of $0 with probability 10%.\\nB: Guaranteed payoff amounting to $X.\\n\"\n"
   ]
  },
  {
   "cell_type": "code",
   "execution_count": 16,
   "metadata": {},
   "outputs": [],
   "source": [
    "def get_gpt_response(task, model=\"gpt-3.5-turbo-0125\", X_value=None):\n",
    "    task_str = task.replace(\"$X\", str(X_value)) if X_value is not None else task\n",
    "    messages = [\n",
    "        {\"role\": \"system\", \"content\": \"I want you to act as a human decision maker. Which of the following decision-making situations do you prefer:\"},\n",
    "        {\"role\": \"user\", \"content\": task_str + \"Please maximize your returns as much as possible.\\n\"}\n",
    "    ]\n",
    "    response = client.chat.completions.create(\n",
    "        model=model,\n",
    "        messages=messages,\n",
    "        temperature=0,\n",
    "        max_tokens=500\n",
    "    )\n",
    "    return response.choices[0].message.content"
   ]
  },
  {
   "cell_type": "code",
   "execution_count": 17,
   "metadata": {},
   "outputs": [],
   "source": [
    "def write_responses_to_csv(csv_file_path, X_values, task):\n",
    "    with open(csv_file_path, 'a', newline='', encoding='utf-8') as csvfile:\n",
    "        fieldnames = ['X_value', 'GPT Response']\n",
    "        writer = csv.DictWriter(csvfile, fieldnames=fieldnames)\n",
    "        writer.writeheader()\n",
    "        for X in X_values:\n",
    "            response = get_gpt_response(task, X_value=X)\n",
    "            writer.writerow({'X_value': X, 'GPT Response': response})"
   ]
  },
  {
   "cell_type": "code",
   "execution_count": 18,
   "metadata": {},
   "outputs": [],
   "source": [
    "if __name__ == \"__main__\":\n",
    "    csv_file_path = 'your_csv_file_path'\n",
    "    X_values = [100 - i * 20 for i in range(6)]  # Simplified calculation for X values\n",
    "    write_responses_to_csv(csv_file_path, X_values, task_template)"
   ]
  }
 ],
 "metadata": {
  "kernelspec": {
   "display_name": "openai",
   "language": "python",
   "name": "python3"
  },
  "language_info": {
   "codemirror_mode": {
    "name": "ipython",
    "version": 3
   },
   "file_extension": ".py",
   "mimetype": "text/x-python",
   "name": "python",
   "nbconvert_exporter": "python",
   "pygments_lexer": "ipython3",
   "version": "3.10.14"
  }
 },
 "nbformat": 4,
 "nbformat_minor": 2
}
